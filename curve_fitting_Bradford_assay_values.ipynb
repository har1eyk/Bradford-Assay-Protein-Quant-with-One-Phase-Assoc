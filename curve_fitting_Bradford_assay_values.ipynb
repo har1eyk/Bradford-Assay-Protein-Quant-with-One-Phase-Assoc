{
 "cells": [
  {
   "attachments": {},
   "cell_type": "markdown",
   "metadata": {},
   "source": [
    "This notebook uses curve_fit and initial estimated values to calculate the Y0, plateau and rate constant values to find a model to explain data generated from a protein standard curve using the Bradford assay.  Using SciPy's curve_fit makes GraphPad plotting unnecessary."
   ]
  },
  {
   "cell_type": "code",
   "execution_count": 106,
   "metadata": {},
   "outputs": [],
   "source": [
    "import matplotlib.pyplot as plt\n",
    "from scipy.optimize import curve_fit\n",
    "import numpy as np\n",
    "from scipy import stats"
   ]
  },
  {
   "cell_type": "markdown",
   "metadata": {},
   "source": [
    "Import raw data:"
   ]
  },
  {
   "cell_type": "code",
   "execution_count": 107,
   "metadata": {},
   "outputs": [],
   "source": [
    "xdata = [2000, 1500, 1000, 750, 500, 250, 125, 25]\n",
    "ydata = [1.07685, 0.9741, 0.8432, 0.74875, 0.4937, 0.2928, 0.1696, 0.02865]"
   ]
  },
  {
   "cell_type": "markdown",
   "metadata": {},
   "source": [
    "The initial guesses are important. Without them, curve_fit can't coalesce around explanatory values. I wonder how to generate values without human input. Y0 can be zero. The plateau could be Max + a few units. K, the rate, is difficult to estimate. When too high, incomputable values are generated (0's). Initial guesses could be more accurate by taking into account constraints e.g. p != Y0 and k !=0. "
   ]
  },
  {
   "cell_type": "code",
   "execution_count": 138,
   "metadata": {},
   "outputs": [
    {
     "name": "stdout",
     "output_type": "stream",
     "text": [
      "R2 = 0.9159759228396054\n"
     ]
    },
    {
     "data": {
      "image/png": "[encoded data removed]",
      "text/plain": [
       "<matplotlib.figure.Figure at 0x1847b719080>"
      ]
     },
     "metadata": {},
     "output_type": "display_data"
    }
   ],
   "source": [
    "# an array for initial guesses\n",
    "# g = [y0, P, k]\n",
    "\n",
    "# when k < 0.002 then no errors\n",
    "# when k > 0.002 then log(0) = errors\n",
    "\n",
    "g = [0, 1.176, 0.001]\n",
    "\n",
    "def eqn(y, y0, P, k):\n",
    "    '=(LN(($D$76-$D$75)/($D$76-G76))+0)/$D$77'\n",
    "    return (np.log((P-y0)/(P-y)))/k\n",
    "\n",
    "conc_pred = np.empty(len(ydata))\n",
    "for i in range(len(ydata)):\n",
    "    conc_pred[i]=eqn(ydata[i], g[0], g[1], g[2])\n",
    "    \n",
    "plt.plot(xdata, ydata, 'bo', label='data')\n",
    "plt.plot(conc_pred, ydata, 'r.', label='predicted')\n",
    "from sklearn.metrics import r2_score\n",
    "print (\"R2 =\", r2_score(conc_pred, xdata))"
   ]
  },
  {
   "cell_type": "markdown",
   "metadata": {},
   "source": [
    "When predicted line (red) is below observed (blue) line, then no error in curve_fit. When above observed line, then errors about \"...invalid value encountered in log.\" i.d. log(0)."
   ]
  },
  {
   "cell_type": "code",
   "execution_count": 139,
   "metadata": {},
   "outputs": [
    {
     "data": {
      "text/plain": [
       "array([-0.01206484,  1.17394043,  0.00124237])"
      ]
     },
     "execution_count": 139,
     "metadata": {},
     "output_type": "execute_result"
    }
   ],
   "source": [
    "c,cov = curve_fit(eqn, ydata, xdata, g)\n",
    "c"
   ]
  },
  {
   "cell_type": "code",
   "execution_count": 129,
   "metadata": {},
   "outputs": [
    {
     "data": {
      "text/plain": [
       "Text(1500,0.5,'0.9958475153055671')"
      ]
     },
     "execution_count": 129,
     "metadata": {},
     "output_type": "execute_result"
    },
    {
     "data": {
      "image/png": "[encoded data removed]",
      "text/plain": [
       "<matplotlib.figure.Figure at 0x1847cd59b70>"
      ]
     },
     "metadata": {},
     "output_type": "display_data"
    }
   ],
   "source": [
    "conc = np.empty(len(ydata))\n",
    "\n",
    "for i in range(len(ydata)):\n",
    "    conc[i]=eqn(ydata[i], c[0], c[1], c[2])\n",
    "    \n",
    "plt.plot(xdata, ydata, 'bo', label='data')\n",
    "plt.plot(conc, ydata, 'r.', label='predicted')\n",
    "plt.xlabel('conc (mg/ml)')\n",
    "plt.ylabel('abs')\n",
    "plt.legend()\n",
    "r_squared = r2_score(conc, xdata)\n",
    "plt.text(1500, 0.5, r_squared) #'R-squared = %' % r_squared)"
   ]
  }
 ],
 "metadata": {
  "kernelspec": {
   "display_name": "Python 3",
   "language": "python",
   "name": "python3"
  },
  "language_info": {
   "codemirror_mode": {
    "name": "ipython",
    "version": 3
   },
   "file_extension": ".py",
   "mimetype": "text/x-python",
   "name": "python",
   "nbconvert_exporter": "python",
   "pygments_lexer": "ipython3",
   "version": "3.6.4"
  }
 },
 "nbformat": 4,
 "nbformat_minor": 2
}
